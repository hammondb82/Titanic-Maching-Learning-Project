{
 "cells": [
  {
   "cell_type": "markdown",
   "id": "bd61af4d",
   "metadata": {
    "papermill": {
     "duration": 0.011663,
     "end_time": "2022-07-07T14:34:17.824935",
     "exception": false,
     "start_time": "2022-07-07T14:34:17.813272",
     "status": "completed"
    },
    "tags": []
   },
   "source": [
    "# **Notebook Setup**\n",
    "\n",
    "Here we set up the import statements and load the data into dataframes."
   ]
  },
  {
   "cell_type": "code",
   "execution_count": 1,
   "id": "185df908",
   "metadata": {
    "_cell_guid": "b1076dfc-b9ad-4769-8c92-a6c4dae69d19",
    "_uuid": "8f2839f25d086af736a60e9eeb907d3b93b6e0e5",
    "execution": {
     "iopub.execute_input": "2022-07-07T14:34:17.849183Z",
     "iopub.status.busy": "2022-07-07T14:34:17.848367Z",
     "iopub.status.idle": "2022-07-07T14:34:27.975861Z",
     "shell.execute_reply": "2022-07-07T14:34:27.974409Z"
    },
    "papermill": {
     "duration": 10.143041,
     "end_time": "2022-07-07T14:34:27.978822",
     "exception": false,
     "start_time": "2022-07-07T14:34:17.835781",
     "status": "completed"
    },
    "tags": []
   },
   "outputs": [],
   "source": [
    "# Import statements\n",
    "\n",
    "import numpy as np # linear algebra\n",
    "import pandas as pd # data processing, CSV file I/O (e.g. pd.read_csv)\n",
    "import seaborn as sns\n",
    "import matplotlib.pyplot as plt\n",
    "from sklearn.impute import SimpleImputer\n",
    "from sklearn import preprocessing\n",
    "from tensorflow import keras\n",
    "from tensorflow.keras import layers\n",
    "from sklearn.model_selection import train_test_split\n",
    "from tensorflow.keras.callbacks import EarlyStopping\n",
    "from sklearn.preprocessing import MinMaxScaler\n",
    "from pandas import DataFrame"
   ]
  },
  {
   "cell_type": "code",
   "execution_count": 2,
   "id": "30dacb2d",
   "metadata": {
    "execution": {
     "iopub.execute_input": "2022-07-07T14:34:28.002072Z",
     "iopub.status.busy": "2022-07-07T14:34:28.001202Z",
     "iopub.status.idle": "2022-07-07T14:34:28.034011Z",
     "shell.execute_reply": "2022-07-07T14:34:28.032443Z"
    },
    "papermill": {
     "duration": 0.048092,
     "end_time": "2022-07-07T14:34:28.037411",
     "exception": false,
     "start_time": "2022-07-07T14:34:27.989319",
     "status": "completed"
    },
    "tags": []
   },
   "outputs": [],
   "source": [
    "# import data into dfs\n",
    "train = pd.read_csv('../input/titanic/train.csv')\n",
    "test = pd.read_csv('../input/titanic/test.csv')"
   ]
  },
  {
   "cell_type": "markdown",
   "id": "61e9c9ca",
   "metadata": {
    "papermill": {
     "duration": 0.011796,
     "end_time": "2022-07-07T14:34:28.060033",
     "exception": false,
     "start_time": "2022-07-07T14:34:28.048237",
     "status": "completed"
    },
    "tags": []
   },
   "source": [
    "# **Investigating the data**\n",
    "\n",
    "Here we look at the data in the most basic terms to get a better sense for missing values, types of data, and potential features we could use. "
   ]
  },
  {
   "cell_type": "code",
   "execution_count": 3,
   "id": "8026d7ce",
   "metadata": {
    "execution": {
     "iopub.execute_input": "2022-07-07T14:34:28.083966Z",
     "iopub.status.busy": "2022-07-07T14:34:28.083487Z",
     "iopub.status.idle": "2022-07-07T14:34:28.117926Z",
     "shell.execute_reply": "2022-07-07T14:34:28.116384Z"
    },
    "papermill": {
     "duration": 0.049709,
     "end_time": "2022-07-07T14:34:28.120795",
     "exception": false,
     "start_time": "2022-07-07T14:34:28.071086",
     "status": "completed"
    },
    "tags": []
   },
   "outputs": [
    {
     "data": {
      "text/html": [
       "<div>\n",
       "<style scoped>\n",
       "    .dataframe tbody tr th:only-of-type {\n",
       "        vertical-align: middle;\n",
       "    }\n",
       "\n",
       "    .dataframe tbody tr th {\n",
       "        vertical-align: top;\n",
       "    }\n",
       "\n",
       "    .dataframe thead th {\n",
       "        text-align: right;\n",
       "    }\n",
       "</style>\n",
       "<table border=\"1\" class=\"dataframe\">\n",
       "  <thead>\n",
       "    <tr style=\"text-align: right;\">\n",
       "      <th></th>\n",
       "      <th>PassengerId</th>\n",
       "      <th>Survived</th>\n",
       "      <th>Pclass</th>\n",
       "      <th>Name</th>\n",
       "      <th>Sex</th>\n",
       "      <th>Age</th>\n",
       "      <th>SibSp</th>\n",
       "      <th>Parch</th>\n",
       "      <th>Ticket</th>\n",
       "      <th>Fare</th>\n",
       "      <th>Cabin</th>\n",
       "      <th>Embarked</th>\n",
       "    </tr>\n",
       "  </thead>\n",
       "  <tbody>\n",
       "    <tr>\n",
       "      <th>0</th>\n",
       "      <td>1</td>\n",
       "      <td>0</td>\n",
       "      <td>3</td>\n",
       "      <td>Braund, Mr. Owen Harris</td>\n",
       "      <td>male</td>\n",
       "      <td>22.0</td>\n",
       "      <td>1</td>\n",
       "      <td>0</td>\n",
       "      <td>A/5 21171</td>\n",
       "      <td>7.2500</td>\n",
       "      <td>NaN</td>\n",
       "      <td>S</td>\n",
       "    </tr>\n",
       "    <tr>\n",
       "      <th>1</th>\n",
       "      <td>2</td>\n",
       "      <td>1</td>\n",
       "      <td>1</td>\n",
       "      <td>Cumings, Mrs. John Bradley (Florence Briggs Th...</td>\n",
       "      <td>female</td>\n",
       "      <td>38.0</td>\n",
       "      <td>1</td>\n",
       "      <td>0</td>\n",
       "      <td>PC 17599</td>\n",
       "      <td>71.2833</td>\n",
       "      <td>C85</td>\n",
       "      <td>C</td>\n",
       "    </tr>\n",
       "    <tr>\n",
       "      <th>2</th>\n",
       "      <td>3</td>\n",
       "      <td>1</td>\n",
       "      <td>3</td>\n",
       "      <td>Heikkinen, Miss. Laina</td>\n",
       "      <td>female</td>\n",
       "      <td>26.0</td>\n",
       "      <td>0</td>\n",
       "      <td>0</td>\n",
       "      <td>STON/O2. 3101282</td>\n",
       "      <td>7.9250</td>\n",
       "      <td>NaN</td>\n",
       "      <td>S</td>\n",
       "    </tr>\n",
       "    <tr>\n",
       "      <th>3</th>\n",
       "      <td>4</td>\n",
       "      <td>1</td>\n",
       "      <td>1</td>\n",
       "      <td>Futrelle, Mrs. Jacques Heath (Lily May Peel)</td>\n",
       "      <td>female</td>\n",
       "      <td>35.0</td>\n",
       "      <td>1</td>\n",
       "      <td>0</td>\n",
       "      <td>113803</td>\n",
       "      <td>53.1000</td>\n",
       "      <td>C123</td>\n",
       "      <td>S</td>\n",
       "    </tr>\n",
       "    <tr>\n",
       "      <th>4</th>\n",
       "      <td>5</td>\n",
       "      <td>0</td>\n",
       "      <td>3</td>\n",
       "      <td>Allen, Mr. William Henry</td>\n",
       "      <td>male</td>\n",
       "      <td>35.0</td>\n",
       "      <td>0</td>\n",
       "      <td>0</td>\n",
       "      <td>373450</td>\n",
       "      <td>8.0500</td>\n",
       "      <td>NaN</td>\n",
       "      <td>S</td>\n",
       "    </tr>\n",
       "  </tbody>\n",
       "</table>\n",
       "</div>"
      ],
      "text/plain": [
       "   PassengerId  Survived  Pclass  \\\n",
       "0            1         0       3   \n",
       "1            2         1       1   \n",
       "2            3         1       3   \n",
       "3            4         1       1   \n",
       "4            5         0       3   \n",
       "\n",
       "                                                Name     Sex   Age  SibSp  \\\n",
       "0                            Braund, Mr. Owen Harris    male  22.0      1   \n",
       "1  Cumings, Mrs. John Bradley (Florence Briggs Th...  female  38.0      1   \n",
       "2                             Heikkinen, Miss. Laina  female  26.0      0   \n",
       "3       Futrelle, Mrs. Jacques Heath (Lily May Peel)  female  35.0      1   \n",
       "4                           Allen, Mr. William Henry    male  35.0      0   \n",
       "\n",
       "   Parch            Ticket     Fare Cabin Embarked  \n",
       "0      0         A/5 21171   7.2500   NaN        S  \n",
       "1      0          PC 17599  71.2833   C85        C  \n",
       "2      0  STON/O2. 3101282   7.9250   NaN        S  \n",
       "3      0            113803  53.1000  C123        S  \n",
       "4      0            373450   8.0500   NaN        S  "
      ]
     },
     "execution_count": 3,
     "metadata": {},
     "output_type": "execute_result"
    }
   ],
   "source": [
    "train.head()"
   ]
  },
  {
   "cell_type": "code",
   "execution_count": 4,
   "id": "142fb3e7",
   "metadata": {
    "execution": {
     "iopub.execute_input": "2022-07-07T14:34:28.144749Z",
     "iopub.status.busy": "2022-07-07T14:34:28.144286Z",
     "iopub.status.idle": "2022-07-07T14:34:28.174685Z",
     "shell.execute_reply": "2022-07-07T14:34:28.173450Z"
    },
    "papermill": {
     "duration": 0.046121,
     "end_time": "2022-07-07T14:34:28.177908",
     "exception": false,
     "start_time": "2022-07-07T14:34:28.131787",
     "status": "completed"
    },
    "tags": []
   },
   "outputs": [
    {
     "name": "stdout",
     "output_type": "stream",
     "text": [
      "<class 'pandas.core.frame.DataFrame'>\n",
      "RangeIndex: 891 entries, 0 to 890\n",
      "Data columns (total 12 columns):\n",
      " #   Column       Non-Null Count  Dtype  \n",
      "---  ------       --------------  -----  \n",
      " 0   PassengerId  891 non-null    int64  \n",
      " 1   Survived     891 non-null    int64  \n",
      " 2   Pclass       891 non-null    int64  \n",
      " 3   Name         891 non-null    object \n",
      " 4   Sex          891 non-null    object \n",
      " 5   Age          714 non-null    float64\n",
      " 6   SibSp        891 non-null    int64  \n",
      " 7   Parch        891 non-null    int64  \n",
      " 8   Ticket       891 non-null    object \n",
      " 9   Fare         891 non-null    float64\n",
      " 10  Cabin        204 non-null    object \n",
      " 11  Embarked     889 non-null    object \n",
      "dtypes: float64(2), int64(5), object(5)\n",
      "memory usage: 83.7+ KB\n"
     ]
    }
   ],
   "source": [
    "train.info()"
   ]
  },
  {
   "cell_type": "code",
   "execution_count": 5,
   "id": "01485eb4",
   "metadata": {
    "execution": {
     "iopub.execute_input": "2022-07-07T14:34:28.202836Z",
     "iopub.status.busy": "2022-07-07T14:34:28.202349Z",
     "iopub.status.idle": "2022-07-07T14:34:28.244036Z",
     "shell.execute_reply": "2022-07-07T14:34:28.242943Z"
    },
    "papermill": {
     "duration": 0.056964,
     "end_time": "2022-07-07T14:34:28.246563",
     "exception": false,
     "start_time": "2022-07-07T14:34:28.189599",
     "status": "completed"
    },
    "tags": []
   },
   "outputs": [
    {
     "data": {
      "text/html": [
       "<div>\n",
       "<style scoped>\n",
       "    .dataframe tbody tr th:only-of-type {\n",
       "        vertical-align: middle;\n",
       "    }\n",
       "\n",
       "    .dataframe tbody tr th {\n",
       "        vertical-align: top;\n",
       "    }\n",
       "\n",
       "    .dataframe thead th {\n",
       "        text-align: right;\n",
       "    }\n",
       "</style>\n",
       "<table border=\"1\" class=\"dataframe\">\n",
       "  <thead>\n",
       "    <tr style=\"text-align: right;\">\n",
       "      <th></th>\n",
       "      <th>PassengerId</th>\n",
       "      <th>Survived</th>\n",
       "      <th>Pclass</th>\n",
       "      <th>Age</th>\n",
       "      <th>SibSp</th>\n",
       "      <th>Parch</th>\n",
       "      <th>Fare</th>\n",
       "    </tr>\n",
       "  </thead>\n",
       "  <tbody>\n",
       "    <tr>\n",
       "      <th>count</th>\n",
       "      <td>891.000000</td>\n",
       "      <td>891.000000</td>\n",
       "      <td>891.000000</td>\n",
       "      <td>714.000000</td>\n",
       "      <td>891.000000</td>\n",
       "      <td>891.000000</td>\n",
       "      <td>891.000000</td>\n",
       "    </tr>\n",
       "    <tr>\n",
       "      <th>mean</th>\n",
       "      <td>446.000000</td>\n",
       "      <td>0.383838</td>\n",
       "      <td>2.308642</td>\n",
       "      <td>29.699118</td>\n",
       "      <td>0.523008</td>\n",
       "      <td>0.381594</td>\n",
       "      <td>32.204208</td>\n",
       "    </tr>\n",
       "    <tr>\n",
       "      <th>std</th>\n",
       "      <td>257.353842</td>\n",
       "      <td>0.486592</td>\n",
       "      <td>0.836071</td>\n",
       "      <td>14.526497</td>\n",
       "      <td>1.102743</td>\n",
       "      <td>0.806057</td>\n",
       "      <td>49.693429</td>\n",
       "    </tr>\n",
       "    <tr>\n",
       "      <th>min</th>\n",
       "      <td>1.000000</td>\n",
       "      <td>0.000000</td>\n",
       "      <td>1.000000</td>\n",
       "      <td>0.420000</td>\n",
       "      <td>0.000000</td>\n",
       "      <td>0.000000</td>\n",
       "      <td>0.000000</td>\n",
       "    </tr>\n",
       "    <tr>\n",
       "      <th>25%</th>\n",
       "      <td>223.500000</td>\n",
       "      <td>0.000000</td>\n",
       "      <td>2.000000</td>\n",
       "      <td>20.125000</td>\n",
       "      <td>0.000000</td>\n",
       "      <td>0.000000</td>\n",
       "      <td>7.910400</td>\n",
       "    </tr>\n",
       "    <tr>\n",
       "      <th>50%</th>\n",
       "      <td>446.000000</td>\n",
       "      <td>0.000000</td>\n",
       "      <td>3.000000</td>\n",
       "      <td>28.000000</td>\n",
       "      <td>0.000000</td>\n",
       "      <td>0.000000</td>\n",
       "      <td>14.454200</td>\n",
       "    </tr>\n",
       "    <tr>\n",
       "      <th>75%</th>\n",
       "      <td>668.500000</td>\n",
       "      <td>1.000000</td>\n",
       "      <td>3.000000</td>\n",
       "      <td>38.000000</td>\n",
       "      <td>1.000000</td>\n",
       "      <td>0.000000</td>\n",
       "      <td>31.000000</td>\n",
       "    </tr>\n",
       "    <tr>\n",
       "      <th>max</th>\n",
       "      <td>891.000000</td>\n",
       "      <td>1.000000</td>\n",
       "      <td>3.000000</td>\n",
       "      <td>80.000000</td>\n",
       "      <td>8.000000</td>\n",
       "      <td>6.000000</td>\n",
       "      <td>512.329200</td>\n",
       "    </tr>\n",
       "  </tbody>\n",
       "</table>\n",
       "</div>"
      ],
      "text/plain": [
       "       PassengerId    Survived      Pclass         Age       SibSp  \\\n",
       "count   891.000000  891.000000  891.000000  714.000000  891.000000   \n",
       "mean    446.000000    0.383838    2.308642   29.699118    0.523008   \n",
       "std     257.353842    0.486592    0.836071   14.526497    1.102743   \n",
       "min       1.000000    0.000000    1.000000    0.420000    0.000000   \n",
       "25%     223.500000    0.000000    2.000000   20.125000    0.000000   \n",
       "50%     446.000000    0.000000    3.000000   28.000000    0.000000   \n",
       "75%     668.500000    1.000000    3.000000   38.000000    1.000000   \n",
       "max     891.000000    1.000000    3.000000   80.000000    8.000000   \n",
       "\n",
       "            Parch        Fare  \n",
       "count  891.000000  891.000000  \n",
       "mean     0.381594   32.204208  \n",
       "std      0.806057   49.693429  \n",
       "min      0.000000    0.000000  \n",
       "25%      0.000000    7.910400  \n",
       "50%      0.000000   14.454200  \n",
       "75%      0.000000   31.000000  \n",
       "max      6.000000  512.329200  "
      ]
     },
     "execution_count": 5,
     "metadata": {},
     "output_type": "execute_result"
    }
   ],
   "source": [
    "train.describe()"
   ]
  },
  {
   "cell_type": "markdown",
   "id": "249b9216",
   "metadata": {
    "papermill": {
     "duration": 0.010898,
     "end_time": "2022-07-07T14:34:28.268807",
     "exception": false,
     "start_time": "2022-07-07T14:34:28.257909",
     "status": "completed"
    },
    "tags": []
   },
   "source": [
    "**Initial Impressisons**\n",
    "\n",
    "1. String objects including ['Gender', 'Name', 'Ticket', 'Cabin', 'Embarked'] will need to be encoded to numerical values.\n",
    "2. Names look to be unique and may be a useful feature if I can pull out titles from the strings. \n",
    "3. Fare will might be a useful feature if I can correlate it to survival rate. \n",
    "4. Cabin looks to have a lot of missing values and will be a hard feature to use. \n",
    "5. Age, Gender, and # of family members might offer promise as features. \n",
    "6. Data will have to be normalized to accound for the wide range of values between features. "
   ]
  },
  {
   "cell_type": "markdown",
   "id": "ce3c39d7",
   "metadata": {
    "papermill": {
     "duration": 0.010898,
     "end_time": "2022-07-07T14:34:28.291099",
     "exception": false,
     "start_time": "2022-07-07T14:34:28.280201",
     "status": "completed"
    },
    "tags": []
   },
   "source": [
    "# **Investigation of Potential Features**\n",
    "\n",
    "Here I will investigate what features will be useful by visualizing the graphically."
   ]
  },
  {
   "cell_type": "code",
   "execution_count": 6,
   "id": "16a23e9b",
   "metadata": {
    "execution": {
     "iopub.execute_input": "2022-07-07T14:34:28.316209Z",
     "iopub.status.busy": "2022-07-07T14:34:28.315291Z",
     "iopub.status.idle": "2022-07-07T14:34:29.285996Z",
     "shell.execute_reply": "2022-07-07T14:34:29.284672Z"
    },
    "papermill": {
     "duration": 0.986139,
     "end_time": "2022-07-07T14:34:29.288533",
     "exception": false,
     "start_time": "2022-07-07T14:34:28.302394",
     "status": "completed"
    },
    "tags": []
   },
   "outputs": [
    {
     "data": {
      "image/png": "[encoded data removed]",
      "text/plain": [
       "<Figure size 1584x360 with 5 Axes>"
      ]
     },
     "metadata": {
      "needs_background": "light"
     },
     "output_type": "display_data"
    }
   ],
   "source": [
    "fig, axes = plt.subplots(1, 5, figsize = (22, 5))\n",
    "columns = ['Age', 'Fare', 'Parch', 'SibSp', 'Pclass']\n",
    "\n",
    "for col in columns: \n",
    "    sns.barplot(ax=axes[columns.index(col)], data = train, x = 'Survived', y = col)"
   ]
  },
  {
   "cell_type": "markdown",
   "id": "5afc6b50",
   "metadata": {
    "papermill": {
     "duration": 0.011171,
     "end_time": "2022-07-07T14:34:29.311454",
     "exception": false,
     "start_time": "2022-07-07T14:34:29.300283",
     "status": "completed"
    },
    "tags": []
   },
   "source": [
    "**Conclusion**\n",
    "1. I will need to bin ages to see if there is an unequal distibution of survived. \n",
    "2. Fare seems to be a good predictor of survival and I will include it as a feature in my model. \n",
    "3. I will need to break down Pclass into categories"
   ]
  },
  {
   "cell_type": "code",
   "execution_count": 7,
   "id": "24ad3669",
   "metadata": {
    "execution": {
     "iopub.execute_input": "2022-07-07T14:34:29.336924Z",
     "iopub.status.busy": "2022-07-07T14:34:29.336082Z",
     "iopub.status.idle": "2022-07-07T14:34:29.518164Z",
     "shell.execute_reply": "2022-07-07T14:34:29.516928Z"
    },
    "papermill": {
     "duration": 0.198082,
     "end_time": "2022-07-07T14:34:29.521176",
     "exception": false,
     "start_time": "2022-07-07T14:34:29.323094",
     "status": "completed"
    },
    "tags": []
   },
   "outputs": [
    {
     "data": {
      "text/plain": [
       "<AxesSubplot:xlabel='Embarked', ylabel='count'>"
      ]
     },
     "execution_count": 7,
     "metadata": {},
     "output_type": "execute_result"
    },
    {
     "data": {
      "image/png": "[encoded data removed]",
      "text/plain": [
       "<Figure size 432x288 with 1 Axes>"
      ]
     },
     "metadata": {
      "needs_background": "light"
     },
     "output_type": "display_data"
    }
   ],
   "source": [
    "sns.countplot(data = train, x = 'Embarked', hue = 'Survived')"
   ]
  },
  {
   "cell_type": "markdown",
   "id": "07d29949",
   "metadata": {
    "papermill": {
     "duration": 0.011442,
     "end_time": "2022-07-07T14:34:29.544826",
     "exception": false,
     "start_time": "2022-07-07T14:34:29.533384",
     "status": "completed"
    },
    "tags": []
   },
   "source": [
    "Those that embarked on C were more likley to survive, therefore Embarked will be used as a feature. "
   ]
  },
  {
   "cell_type": "code",
   "execution_count": 8,
   "id": "67de276e",
   "metadata": {
    "execution": {
     "iopub.execute_input": "2022-07-07T14:34:29.571186Z",
     "iopub.status.busy": "2022-07-07T14:34:29.570326Z",
     "iopub.status.idle": "2022-07-07T14:34:29.710338Z",
     "shell.execute_reply": "2022-07-07T14:34:29.709459Z"
    },
    "papermill": {
     "duration": 0.156051,
     "end_time": "2022-07-07T14:34:29.712722",
     "exception": false,
     "start_time": "2022-07-07T14:34:29.556671",
     "status": "completed"
    },
    "tags": []
   },
   "outputs": [
    {
     "data": {
      "text/plain": [
       "<AxesSubplot:xlabel='Sex', ylabel='count'>"
      ]
     },
     "execution_count": 8,
     "metadata": {},
     "output_type": "execute_result"
    },
    {
     "data": {
      "image/png": "[encoded data removed]",
      "text/plain": [
       "<Figure size 432x288 with 1 Axes>"
      ]
     },
     "metadata": {
      "needs_background": "light"
     },
     "output_type": "display_data"
    }
   ],
   "source": [
    "sns.countplot(data = train, x = 'Sex', hue = 'Survived')"
   ]
  },
  {
   "cell_type": "markdown",
   "id": "6f6ec231",
   "metadata": {
    "papermill": {
     "duration": 0.01227,
     "end_time": "2022-07-07T14:34:29.737565",
     "exception": false,
     "start_time": "2022-07-07T14:34:29.725295",
     "status": "completed"
    },
    "tags": []
   },
   "source": [
    "Males were less likely to survive that females and therefore sex should be included as a feature."
   ]
  },
  {
   "cell_type": "code",
   "execution_count": 9,
   "id": "760cc90a",
   "metadata": {
    "execution": {
     "iopub.execute_input": "2022-07-07T14:34:29.764499Z",
     "iopub.status.busy": "2022-07-07T14:34:29.764018Z",
     "iopub.status.idle": "2022-07-07T14:34:29.780622Z",
     "shell.execute_reply": "2022-07-07T14:34:29.778561Z"
    },
    "papermill": {
     "duration": 0.03317,
     "end_time": "2022-07-07T14:34:29.783413",
     "exception": false,
     "start_time": "2022-07-07T14:34:29.750243",
     "status": "completed"
    },
    "tags": []
   },
   "outputs": [
    {
     "name": "stdout",
     "output_type": "stream",
     "text": [
      "<class 'pandas.core.frame.DataFrame'>\n",
      "RangeIndex: 418 entries, 0 to 417\n",
      "Data columns (total 11 columns):\n",
      " #   Column       Non-Null Count  Dtype  \n",
      "---  ------       --------------  -----  \n",
      " 0   PassengerId  418 non-null    int64  \n",
      " 1   Pclass       418 non-null    int64  \n",
      " 2   Name         418 non-null    object \n",
      " 3   Sex          418 non-null    object \n",
      " 4   Age          332 non-null    float64\n",
      " 5   SibSp        418 non-null    int64  \n",
      " 6   Parch        418 non-null    int64  \n",
      " 7   Ticket       418 non-null    object \n",
      " 8   Fare         417 non-null    float64\n",
      " 9   Cabin        91 non-null     object \n",
      " 10  Embarked     418 non-null    object \n",
      "dtypes: float64(2), int64(4), object(5)\n",
      "memory usage: 36.0+ KB\n"
     ]
    }
   ],
   "source": [
    "test.info()"
   ]
  },
  {
   "cell_type": "code",
   "execution_count": 10,
   "id": "a69bc1d0",
   "metadata": {
    "execution": {
     "iopub.execute_input": "2022-07-07T14:34:29.811230Z",
     "iopub.status.busy": "2022-07-07T14:34:29.810320Z",
     "iopub.status.idle": "2022-07-07T14:34:29.817820Z",
     "shell.execute_reply": "2022-07-07T14:34:29.816466Z"
    },
    "papermill": {
     "duration": 0.025206,
     "end_time": "2022-07-07T14:34:29.821183",
     "exception": false,
     "start_time": "2022-07-07T14:34:29.795977",
     "status": "completed"
    },
    "tags": []
   },
   "outputs": [],
   "source": [
    "X = train.drop(columns=['Name', 'Cabin', 'Ticket', 'Survived', 'PassengerId'])\n",
    "y = train['Survived']"
   ]
  },
  {
   "cell_type": "code",
   "execution_count": 11,
   "id": "0b2c9273",
   "metadata": {
    "execution": {
     "iopub.execute_input": "2022-07-07T14:34:29.849726Z",
     "iopub.status.busy": "2022-07-07T14:34:29.849209Z",
     "iopub.status.idle": "2022-07-07T14:34:29.866672Z",
     "shell.execute_reply": "2022-07-07T14:34:29.865420Z"
    },
    "papermill": {
     "duration": 0.034513,
     "end_time": "2022-07-07T14:34:29.869115",
     "exception": false,
     "start_time": "2022-07-07T14:34:29.834602",
     "status": "completed"
    },
    "tags": []
   },
   "outputs": [
    {
     "data": {
      "text/html": [
       "<div>\n",
       "<style scoped>\n",
       "    .dataframe tbody tr th:only-of-type {\n",
       "        vertical-align: middle;\n",
       "    }\n",
       "\n",
       "    .dataframe tbody tr th {\n",
       "        vertical-align: top;\n",
       "    }\n",
       "\n",
       "    .dataframe thead th {\n",
       "        text-align: right;\n",
       "    }\n",
       "</style>\n",
       "<table border=\"1\" class=\"dataframe\">\n",
       "  <thead>\n",
       "    <tr style=\"text-align: right;\">\n",
       "      <th></th>\n",
       "      <th>Pclass</th>\n",
       "      <th>Sex</th>\n",
       "      <th>Age</th>\n",
       "      <th>SibSp</th>\n",
       "      <th>Parch</th>\n",
       "      <th>Fare</th>\n",
       "      <th>Embarked</th>\n",
       "    </tr>\n",
       "  </thead>\n",
       "  <tbody>\n",
       "    <tr>\n",
       "      <th>0</th>\n",
       "      <td>3</td>\n",
       "      <td>male</td>\n",
       "      <td>34.5</td>\n",
       "      <td>0</td>\n",
       "      <td>0</td>\n",
       "      <td>7.8292</td>\n",
       "      <td>Q</td>\n",
       "    </tr>\n",
       "    <tr>\n",
       "      <th>1</th>\n",
       "      <td>3</td>\n",
       "      <td>female</td>\n",
       "      <td>47.0</td>\n",
       "      <td>1</td>\n",
       "      <td>0</td>\n",
       "      <td>7.0000</td>\n",
       "      <td>S</td>\n",
       "    </tr>\n",
       "    <tr>\n",
       "      <th>2</th>\n",
       "      <td>2</td>\n",
       "      <td>male</td>\n",
       "      <td>62.0</td>\n",
       "      <td>0</td>\n",
       "      <td>0</td>\n",
       "      <td>9.6875</td>\n",
       "      <td>Q</td>\n",
       "    </tr>\n",
       "    <tr>\n",
       "      <th>3</th>\n",
       "      <td>3</td>\n",
       "      <td>male</td>\n",
       "      <td>27.0</td>\n",
       "      <td>0</td>\n",
       "      <td>0</td>\n",
       "      <td>8.6625</td>\n",
       "      <td>S</td>\n",
       "    </tr>\n",
       "    <tr>\n",
       "      <th>4</th>\n",
       "      <td>3</td>\n",
       "      <td>female</td>\n",
       "      <td>22.0</td>\n",
       "      <td>1</td>\n",
       "      <td>1</td>\n",
       "      <td>12.2875</td>\n",
       "      <td>S</td>\n",
       "    </tr>\n",
       "  </tbody>\n",
       "</table>\n",
       "</div>"
      ],
      "text/plain": [
       "   Pclass     Sex   Age  SibSp  Parch     Fare Embarked\n",
       "0       3    male  34.5      0      0   7.8292        Q\n",
       "1       3  female  47.0      1      0   7.0000        S\n",
       "2       2    male  62.0      0      0   9.6875        Q\n",
       "3       3    male  27.0      0      0   8.6625        S\n",
       "4       3  female  22.0      1      1  12.2875        S"
      ]
     },
     "execution_count": 11,
     "metadata": {},
     "output_type": "execute_result"
    }
   ],
   "source": [
    "X_test = test.drop(columns=['Name', 'Cabin', 'Ticket', 'PassengerId'])\n",
    "X_test.head()"
   ]
  },
  {
   "cell_type": "markdown",
   "id": "828df22d",
   "metadata": {
    "papermill": {
     "duration": 0.01306,
     "end_time": "2022-07-07T14:34:29.894987",
     "exception": false,
     "start_time": "2022-07-07T14:34:29.881927",
     "status": "completed"
    },
    "tags": []
   },
   "source": [
    "Fill in missing values with mean value or most common value"
   ]
  },
  {
   "cell_type": "code",
   "execution_count": 12,
   "id": "ec82e678",
   "metadata": {
    "execution": {
     "iopub.execute_input": "2022-07-07T14:34:29.923493Z",
     "iopub.status.busy": "2022-07-07T14:34:29.922234Z",
     "iopub.status.idle": "2022-07-07T14:34:29.931412Z",
     "shell.execute_reply": "2022-07-07T14:34:29.930340Z"
    },
    "papermill": {
     "duration": 0.025962,
     "end_time": "2022-07-07T14:34:29.933948",
     "exception": false,
     "start_time": "2022-07-07T14:34:29.907986",
     "status": "completed"
    },
    "tags": []
   },
   "outputs": [],
   "source": [
    "X['Age'].fillna(X['Age'].mean(), inplace = True)\n",
    "X['Embarked'].fillna('S', inplace = True)"
   ]
  },
  {
   "cell_type": "code",
   "execution_count": 13,
   "id": "9f8d8dee",
   "metadata": {
    "execution": {
     "iopub.execute_input": "2022-07-07T14:34:29.963262Z",
     "iopub.status.busy": "2022-07-07T14:34:29.962490Z",
     "iopub.status.idle": "2022-07-07T14:34:29.969948Z",
     "shell.execute_reply": "2022-07-07T14:34:29.969113Z"
    },
    "papermill": {
     "duration": 0.025572,
     "end_time": "2022-07-07T14:34:29.972653",
     "exception": false,
     "start_time": "2022-07-07T14:34:29.947081",
     "status": "completed"
    },
    "tags": []
   },
   "outputs": [],
   "source": [
    "X_test['Age'].fillna(X_test['Age'].mean(), inplace = True)\n",
    "X_test['Embarked'].fillna('S', inplace = True)\n",
    "X_test['Fare'].fillna(X_test['Fare'].mean(), inplace = True)"
   ]
  },
  {
   "cell_type": "code",
   "execution_count": 14,
   "id": "2da5ecc6",
   "metadata": {
    "execution": {
     "iopub.execute_input": "2022-07-07T14:34:30.001036Z",
     "iopub.status.busy": "2022-07-07T14:34:30.000319Z",
     "iopub.status.idle": "2022-07-07T14:34:30.009589Z",
     "shell.execute_reply": "2022-07-07T14:34:30.008665Z"
    },
    "papermill": {
     "duration": 0.026077,
     "end_time": "2022-07-07T14:34:30.011750",
     "exception": false,
     "start_time": "2022-07-07T14:34:29.985673",
     "status": "completed"
    },
    "tags": []
   },
   "outputs": [
    {
     "data": {
      "text/plain": [
       "Pclass      0\n",
       "Sex         0\n",
       "Age         0\n",
       "SibSp       0\n",
       "Parch       0\n",
       "Fare        0\n",
       "Embarked    0\n",
       "dtype: int64"
      ]
     },
     "execution_count": 14,
     "metadata": {},
     "output_type": "execute_result"
    }
   ],
   "source": [
    "# check to make sure all NA have been handled\n",
    "X.isna().sum()"
   ]
  },
  {
   "cell_type": "code",
   "execution_count": 15,
   "id": "703e6663",
   "metadata": {
    "execution": {
     "iopub.execute_input": "2022-07-07T14:34:30.040112Z",
     "iopub.status.busy": "2022-07-07T14:34:30.039433Z",
     "iopub.status.idle": "2022-07-07T14:34:30.048552Z",
     "shell.execute_reply": "2022-07-07T14:34:30.047573Z"
    },
    "papermill": {
     "duration": 0.026079,
     "end_time": "2022-07-07T14:34:30.050857",
     "exception": false,
     "start_time": "2022-07-07T14:34:30.024778",
     "status": "completed"
    },
    "tags": []
   },
   "outputs": [
    {
     "data": {
      "text/plain": [
       "Pclass      0\n",
       "Sex         0\n",
       "Age         0\n",
       "SibSp       0\n",
       "Parch       0\n",
       "Fare        0\n",
       "Embarked    0\n",
       "dtype: int64"
      ]
     },
     "execution_count": 15,
     "metadata": {},
     "output_type": "execute_result"
    }
   ],
   "source": [
    "X_test.isna().sum()"
   ]
  },
  {
   "cell_type": "markdown",
   "id": "c9809543",
   "metadata": {
    "papermill": {
     "duration": 0.012588,
     "end_time": "2022-07-07T14:34:30.076696",
     "exception": false,
     "start_time": "2022-07-07T14:34:30.064108",
     "status": "completed"
    },
    "tags": []
   },
   "source": [
    "Encode values for Sex and Embarked"
   ]
  },
  {
   "cell_type": "code",
   "execution_count": 16,
   "id": "20746fbe",
   "metadata": {
    "execution": {
     "iopub.execute_input": "2022-07-07T14:34:30.106021Z",
     "iopub.status.busy": "2022-07-07T14:34:30.105305Z",
     "iopub.status.idle": "2022-07-07T14:34:30.121932Z",
     "shell.execute_reply": "2022-07-07T14:34:30.121118Z"
    },
    "papermill": {
     "duration": 0.033611,
     "end_time": "2022-07-07T14:34:30.124018",
     "exception": false,
     "start_time": "2022-07-07T14:34:30.090407",
     "status": "completed"
    },
    "tags": []
   },
   "outputs": [
    {
     "data": {
      "text/html": [
       "<div>\n",
       "<style scoped>\n",
       "    .dataframe tbody tr th:only-of-type {\n",
       "        vertical-align: middle;\n",
       "    }\n",
       "\n",
       "    .dataframe tbody tr th {\n",
       "        vertical-align: top;\n",
       "    }\n",
       "\n",
       "    .dataframe thead th {\n",
       "        text-align: right;\n",
       "    }\n",
       "</style>\n",
       "<table border=\"1\" class=\"dataframe\">\n",
       "  <thead>\n",
       "    <tr style=\"text-align: right;\">\n",
       "      <th></th>\n",
       "      <th>Pclass</th>\n",
       "      <th>Sex</th>\n",
       "      <th>Age</th>\n",
       "      <th>SibSp</th>\n",
       "      <th>Parch</th>\n",
       "      <th>Fare</th>\n",
       "      <th>Embarked</th>\n",
       "    </tr>\n",
       "  </thead>\n",
       "  <tbody>\n",
       "    <tr>\n",
       "      <th>0</th>\n",
       "      <td>3</td>\n",
       "      <td>1</td>\n",
       "      <td>22.0</td>\n",
       "      <td>1</td>\n",
       "      <td>0</td>\n",
       "      <td>7.2500</td>\n",
       "      <td>2</td>\n",
       "    </tr>\n",
       "    <tr>\n",
       "      <th>1</th>\n",
       "      <td>1</td>\n",
       "      <td>0</td>\n",
       "      <td>38.0</td>\n",
       "      <td>1</td>\n",
       "      <td>0</td>\n",
       "      <td>71.2833</td>\n",
       "      <td>0</td>\n",
       "    </tr>\n",
       "    <tr>\n",
       "      <th>2</th>\n",
       "      <td>3</td>\n",
       "      <td>0</td>\n",
       "      <td>26.0</td>\n",
       "      <td>0</td>\n",
       "      <td>0</td>\n",
       "      <td>7.9250</td>\n",
       "      <td>2</td>\n",
       "    </tr>\n",
       "    <tr>\n",
       "      <th>3</th>\n",
       "      <td>1</td>\n",
       "      <td>0</td>\n",
       "      <td>35.0</td>\n",
       "      <td>1</td>\n",
       "      <td>0</td>\n",
       "      <td>53.1000</td>\n",
       "      <td>2</td>\n",
       "    </tr>\n",
       "    <tr>\n",
       "      <th>4</th>\n",
       "      <td>3</td>\n",
       "      <td>1</td>\n",
       "      <td>35.0</td>\n",
       "      <td>0</td>\n",
       "      <td>0</td>\n",
       "      <td>8.0500</td>\n",
       "      <td>2</td>\n",
       "    </tr>\n",
       "  </tbody>\n",
       "</table>\n",
       "</div>"
      ],
      "text/plain": [
       "   Pclass  Sex   Age  SibSp  Parch     Fare  Embarked\n",
       "0       3    1  22.0      1      0   7.2500         2\n",
       "1       1    0  38.0      1      0  71.2833         0\n",
       "2       3    0  26.0      0      0   7.9250         2\n",
       "3       1    0  35.0      1      0  53.1000         2\n",
       "4       3    1  35.0      0      0   8.0500         2"
      ]
     },
     "execution_count": 16,
     "metadata": {},
     "output_type": "execute_result"
    }
   ],
   "source": [
    "le = preprocessing.LabelEncoder()\n",
    "\n",
    "X['Sex'] = le.fit_transform(X['Sex'])\n",
    "X['Embarked'] = le.fit_transform(X['Embarked'])\n",
    "X.head()"
   ]
  },
  {
   "cell_type": "code",
   "execution_count": 17,
   "id": "c63313ac",
   "metadata": {
    "execution": {
     "iopub.execute_input": "2022-07-07T14:34:30.153434Z",
     "iopub.status.busy": "2022-07-07T14:34:30.152730Z",
     "iopub.status.idle": "2022-07-07T14:34:30.167686Z",
     "shell.execute_reply": "2022-07-07T14:34:30.166813Z"
    },
    "papermill": {
     "duration": 0.032213,
     "end_time": "2022-07-07T14:34:30.169904",
     "exception": false,
     "start_time": "2022-07-07T14:34:30.137691",
     "status": "completed"
    },
    "tags": []
   },
   "outputs": [
    {
     "data": {
      "text/html": [
       "<div>\n",
       "<style scoped>\n",
       "    .dataframe tbody tr th:only-of-type {\n",
       "        vertical-align: middle;\n",
       "    }\n",
       "\n",
       "    .dataframe tbody tr th {\n",
       "        vertical-align: top;\n",
       "    }\n",
       "\n",
       "    .dataframe thead th {\n",
       "        text-align: right;\n",
       "    }\n",
       "</style>\n",
       "<table border=\"1\" class=\"dataframe\">\n",
       "  <thead>\n",
       "    <tr style=\"text-align: right;\">\n",
       "      <th></th>\n",
       "      <th>Pclass</th>\n",
       "      <th>Sex</th>\n",
       "      <th>Age</th>\n",
       "      <th>SibSp</th>\n",
       "      <th>Parch</th>\n",
       "      <th>Fare</th>\n",
       "      <th>Embarked</th>\n",
       "    </tr>\n",
       "  </thead>\n",
       "  <tbody>\n",
       "    <tr>\n",
       "      <th>0</th>\n",
       "      <td>3</td>\n",
       "      <td>1</td>\n",
       "      <td>34.5</td>\n",
       "      <td>0</td>\n",
       "      <td>0</td>\n",
       "      <td>7.8292</td>\n",
       "      <td>1</td>\n",
       "    </tr>\n",
       "    <tr>\n",
       "      <th>1</th>\n",
       "      <td>3</td>\n",
       "      <td>0</td>\n",
       "      <td>47.0</td>\n",
       "      <td>1</td>\n",
       "      <td>0</td>\n",
       "      <td>7.0000</td>\n",
       "      <td>2</td>\n",
       "    </tr>\n",
       "    <tr>\n",
       "      <th>2</th>\n",
       "      <td>2</td>\n",
       "      <td>1</td>\n",
       "      <td>62.0</td>\n",
       "      <td>0</td>\n",
       "      <td>0</td>\n",
       "      <td>9.6875</td>\n",
       "      <td>1</td>\n",
       "    </tr>\n",
       "    <tr>\n",
       "      <th>3</th>\n",
       "      <td>3</td>\n",
       "      <td>1</td>\n",
       "      <td>27.0</td>\n",
       "      <td>0</td>\n",
       "      <td>0</td>\n",
       "      <td>8.6625</td>\n",
       "      <td>2</td>\n",
       "    </tr>\n",
       "    <tr>\n",
       "      <th>4</th>\n",
       "      <td>3</td>\n",
       "      <td>0</td>\n",
       "      <td>22.0</td>\n",
       "      <td>1</td>\n",
       "      <td>1</td>\n",
       "      <td>12.2875</td>\n",
       "      <td>2</td>\n",
       "    </tr>\n",
       "  </tbody>\n",
       "</table>\n",
       "</div>"
      ],
      "text/plain": [
       "   Pclass  Sex   Age  SibSp  Parch     Fare  Embarked\n",
       "0       3    1  34.5      0      0   7.8292         1\n",
       "1       3    0  47.0      1      0   7.0000         2\n",
       "2       2    1  62.0      0      0   9.6875         1\n",
       "3       3    1  27.0      0      0   8.6625         2\n",
       "4       3    0  22.0      1      1  12.2875         2"
      ]
     },
     "execution_count": 17,
     "metadata": {},
     "output_type": "execute_result"
    }
   ],
   "source": [
    "X_test['Sex'] = le.fit_transform(X_test['Sex'])\n",
    "X_test['Embarked'] = le.fit_transform(X_test['Embarked'])\n",
    "X_test.head()"
   ]
  },
  {
   "cell_type": "code",
   "execution_count": 18,
   "id": "62321e07",
   "metadata": {
    "execution": {
     "iopub.execute_input": "2022-07-07T14:34:30.200410Z",
     "iopub.status.busy": "2022-07-07T14:34:30.199061Z",
     "iopub.status.idle": "2022-07-07T14:34:30.212961Z",
     "shell.execute_reply": "2022-07-07T14:34:30.212036Z"
    },
    "papermill": {
     "duration": 0.031457,
     "end_time": "2022-07-07T14:34:30.215566",
     "exception": false,
     "start_time": "2022-07-07T14:34:30.184109",
     "status": "completed"
    },
    "tags": []
   },
   "outputs": [],
   "source": [
    "scaler = MinMaxScaler(feature_range = (0,1))\n",
    "X_2 = scaler.fit_transform(X)\n",
    "X_test_scaled = scaler.fit_transform(X_test)\n"
   ]
  },
  {
   "cell_type": "code",
   "execution_count": 19,
   "id": "01bc5a53",
   "metadata": {
    "execution": {
     "iopub.execute_input": "2022-07-07T14:34:30.245594Z",
     "iopub.status.busy": "2022-07-07T14:34:30.244314Z",
     "iopub.status.idle": "2022-07-07T14:34:30.261403Z",
     "shell.execute_reply": "2022-07-07T14:34:30.260431Z"
    },
    "papermill": {
     "duration": 0.03436,
     "end_time": "2022-07-07T14:34:30.263514",
     "exception": false,
     "start_time": "2022-07-07T14:34:30.229154",
     "status": "completed"
    },
    "tags": []
   },
   "outputs": [
    {
     "data": {
      "text/html": [
       "<div>\n",
       "<style scoped>\n",
       "    .dataframe tbody tr th:only-of-type {\n",
       "        vertical-align: middle;\n",
       "    }\n",
       "\n",
       "    .dataframe tbody tr th {\n",
       "        vertical-align: top;\n",
       "    }\n",
       "\n",
       "    .dataframe thead th {\n",
       "        text-align: right;\n",
       "    }\n",
       "</style>\n",
       "<table border=\"1\" class=\"dataframe\">\n",
       "  <thead>\n",
       "    <tr style=\"text-align: right;\">\n",
       "      <th></th>\n",
       "      <th>0</th>\n",
       "      <th>1</th>\n",
       "      <th>2</th>\n",
       "      <th>3</th>\n",
       "      <th>4</th>\n",
       "      <th>5</th>\n",
       "      <th>6</th>\n",
       "    </tr>\n",
       "  </thead>\n",
       "  <tbody>\n",
       "    <tr>\n",
       "      <th>0</th>\n",
       "      <td>1.0</td>\n",
       "      <td>1.0</td>\n",
       "      <td>0.271174</td>\n",
       "      <td>0.125</td>\n",
       "      <td>0.0</td>\n",
       "      <td>0.014151</td>\n",
       "      <td>1.0</td>\n",
       "    </tr>\n",
       "    <tr>\n",
       "      <th>1</th>\n",
       "      <td>0.0</td>\n",
       "      <td>0.0</td>\n",
       "      <td>0.472229</td>\n",
       "      <td>0.125</td>\n",
       "      <td>0.0</td>\n",
       "      <td>0.139136</td>\n",
       "      <td>0.0</td>\n",
       "    </tr>\n",
       "    <tr>\n",
       "      <th>2</th>\n",
       "      <td>1.0</td>\n",
       "      <td>0.0</td>\n",
       "      <td>0.321438</td>\n",
       "      <td>0.000</td>\n",
       "      <td>0.0</td>\n",
       "      <td>0.015469</td>\n",
       "      <td>1.0</td>\n",
       "    </tr>\n",
       "    <tr>\n",
       "      <th>3</th>\n",
       "      <td>0.0</td>\n",
       "      <td>0.0</td>\n",
       "      <td>0.434531</td>\n",
       "      <td>0.125</td>\n",
       "      <td>0.0</td>\n",
       "      <td>0.103644</td>\n",
       "      <td>1.0</td>\n",
       "    </tr>\n",
       "    <tr>\n",
       "      <th>4</th>\n",
       "      <td>1.0</td>\n",
       "      <td>1.0</td>\n",
       "      <td>0.434531</td>\n",
       "      <td>0.000</td>\n",
       "      <td>0.0</td>\n",
       "      <td>0.015713</td>\n",
       "      <td>1.0</td>\n",
       "    </tr>\n",
       "  </tbody>\n",
       "</table>\n",
       "</div>"
      ],
      "text/plain": [
       "     0    1         2      3    4         5    6\n",
       "0  1.0  1.0  0.271174  0.125  0.0  0.014151  1.0\n",
       "1  0.0  0.0  0.472229  0.125  0.0  0.139136  0.0\n",
       "2  1.0  0.0  0.321438  0.000  0.0  0.015469  1.0\n",
       "3  0.0  0.0  0.434531  0.125  0.0  0.103644  1.0\n",
       "4  1.0  1.0  0.434531  0.000  0.0  0.015713  1.0"
      ]
     },
     "execution_count": 19,
     "metadata": {},
     "output_type": "execute_result"
    }
   ],
   "source": [
    "X_test_final = DataFrame(X_test_scaled)\n",
    "X_final = DataFrame(X_2)\n",
    "X_final.head()"
   ]
  },
  {
   "cell_type": "code",
   "execution_count": 20,
   "id": "c2817291",
   "metadata": {
    "execution": {
     "iopub.execute_input": "2022-07-07T14:34:30.293225Z",
     "iopub.status.busy": "2022-07-07T14:34:30.292452Z",
     "iopub.status.idle": "2022-07-07T14:34:30.299677Z",
     "shell.execute_reply": "2022-07-07T14:34:30.298703Z"
    },
    "papermill": {
     "duration": 0.024777,
     "end_time": "2022-07-07T14:34:30.302057",
     "exception": false,
     "start_time": "2022-07-07T14:34:30.277280",
     "status": "completed"
    },
    "tags": []
   },
   "outputs": [],
   "source": [
    "X_train, X_valid, y_train, y_valid = train_test_split(X_final, y, test_size=0.33, random_state=1)"
   ]
  },
  {
   "cell_type": "code",
   "execution_count": 21,
   "id": "160996bc",
   "metadata": {
    "execution": {
     "iopub.execute_input": "2022-07-07T14:34:30.331665Z",
     "iopub.status.busy": "2022-07-07T14:34:30.330891Z",
     "iopub.status.idle": "2022-07-07T14:34:30.337266Z",
     "shell.execute_reply": "2022-07-07T14:34:30.336236Z"
    },
    "papermill": {
     "duration": 0.023814,
     "end_time": "2022-07-07T14:34:30.339629",
     "exception": false,
     "start_time": "2022-07-07T14:34:30.315815",
     "status": "completed"
    },
    "tags": []
   },
   "outputs": [
    {
     "name": "stdout",
     "output_type": "stream",
     "text": [
      "(596, 7)\n"
     ]
    }
   ],
   "source": [
    "print(X_train.shape)"
   ]
  },
  {
   "cell_type": "markdown",
   "id": "d260f1dc",
   "metadata": {
    "papermill": {
     "duration": 0.013105,
     "end_time": "2022-07-07T14:34:30.367588",
     "exception": false,
     "start_time": "2022-07-07T14:34:30.354483",
     "status": "completed"
    },
    "tags": []
   },
   "source": [
    "To-do:\n",
    "1. Make model\n",
    "2. Fit model\n",
    "3. Preprocess test data\n",
    "4. Optimize data"
   ]
  },
  {
   "cell_type": "code",
   "execution_count": 22,
   "id": "ff0feabe",
   "metadata": {
    "execution": {
     "iopub.execute_input": "2022-07-07T14:34:30.397018Z",
     "iopub.status.busy": "2022-07-07T14:34:30.396199Z",
     "iopub.status.idle": "2022-07-07T14:34:30.401153Z",
     "shell.execute_reply": "2022-07-07T14:34:30.400311Z"
    },
    "papermill": {
     "duration": 0.022054,
     "end_time": "2022-07-07T14:34:30.403239",
     "exception": false,
     "start_time": "2022-07-07T14:34:30.381185",
     "status": "completed"
    },
    "tags": []
   },
   "outputs": [],
   "source": [
    "early_stopping = EarlyStopping(\n",
    "    min_delta=0.001, # minimium amount of change to count as an improvement\n",
    "    patience=10, # how many epochs to wait before stopping\n",
    "    restore_best_weights=True,\n",
    ")"
   ]
  },
  {
   "cell_type": "code",
   "execution_count": 23,
   "id": "ae3508fd",
   "metadata": {
    "execution": {
     "iopub.execute_input": "2022-07-07T14:34:30.432780Z",
     "iopub.status.busy": "2022-07-07T14:34:30.431880Z",
     "iopub.status.idle": "2022-07-07T14:34:30.608376Z",
     "shell.execute_reply": "2022-07-07T14:34:30.607311Z"
    },
    "papermill": {
     "duration": 0.193939,
     "end_time": "2022-07-07T14:34:30.610649",
     "exception": false,
     "start_time": "2022-07-07T14:34:30.416710",
     "status": "completed"
    },
    "tags": []
   },
   "outputs": [
    {
     "name": "stderr",
     "output_type": "stream",
     "text": [
      "2022-07-07 14:34:30.488019: I tensorflow/core/common_runtime/process_util.cc:146] Creating new thread pool with default inter op setting: 2. Tune using inter_op_parallelism_threads for best performance.\n"
     ]
    }
   ],
   "source": [
    "model = keras.Sequential([\n",
    "    layers.Dense(500, activation ='relu', input_shape=[7]),\n",
    "    layers.Dropout(0.3),\n",
    "    layers.Dense(500, activation ='relu'),\n",
    "    layers.Dropout(0.3),\n",
    "    layers.Dense(500, activation ='relu'),\n",
    "    layers.Dropout(0.3),\n",
    "    layers.Dense(1, activation ='sigmoid'),\n",
    "])"
   ]
  },
  {
   "cell_type": "code",
   "execution_count": 24,
   "id": "2e4727ef",
   "metadata": {
    "execution": {
     "iopub.execute_input": "2022-07-07T14:34:30.641105Z",
     "iopub.status.busy": "2022-07-07T14:34:30.639933Z",
     "iopub.status.idle": "2022-07-07T14:34:30.657756Z",
     "shell.execute_reply": "2022-07-07T14:34:30.656499Z"
    },
    "papermill": {
     "duration": 0.036182,
     "end_time": "2022-07-07T14:34:30.660598",
     "exception": false,
     "start_time": "2022-07-07T14:34:30.624416",
     "status": "completed"
    },
    "tags": []
   },
   "outputs": [],
   "source": [
    "model.compile(\n",
    "    optimizer='adam',\n",
    "    loss='binary_crossentropy',\n",
    "    metrics=['binary_accuracy'],\n",
    ")"
   ]
  },
  {
   "cell_type": "code",
   "execution_count": 25,
   "id": "c36762cb",
   "metadata": {
    "execution": {
     "iopub.execute_input": "2022-07-07T14:34:30.694224Z",
     "iopub.status.busy": "2022-07-07T14:34:30.693020Z",
     "iopub.status.idle": "2022-07-07T14:34:34.994293Z",
     "shell.execute_reply": "2022-07-07T14:34:34.993014Z"
    },
    "papermill": {
     "duration": 4.322573,
     "end_time": "2022-07-07T14:34:34.997024",
     "exception": false,
     "start_time": "2022-07-07T14:34:30.674451",
     "status": "completed"
    },
    "tags": []
   },
   "outputs": [
    {
     "name": "stderr",
     "output_type": "stream",
     "text": [
      "2022-07-07 14:34:30.811108: I tensorflow/compiler/mlir/mlir_graph_optimization_pass.cc:185] None of the MLIR Optimization Passes are enabled (registered 2)\n"
     ]
    }
   ],
   "source": [
    "history = model.fit(\n",
    "    X_train, y_train,\n",
    "    validation_data=(X_valid, y_valid),\n",
    "    batch_size=256,\n",
    "    epochs=500,\n",
    "    callbacks=[early_stopping],\n",
    "    verbose=0,\n",
    ")"
   ]
  },
  {
   "cell_type": "code",
   "execution_count": 26,
   "id": "00e3ce1e",
   "metadata": {
    "execution": {
     "iopub.execute_input": "2022-07-07T14:34:35.026744Z",
     "iopub.status.busy": "2022-07-07T14:34:35.026274Z",
     "iopub.status.idle": "2022-07-07T14:34:35.422256Z",
     "shell.execute_reply": "2022-07-07T14:34:35.421117Z"
    },
    "papermill": {
     "duration": 0.413508,
     "end_time": "2022-07-07T14:34:35.424621",
     "exception": false,
     "start_time": "2022-07-07T14:34:35.011113",
     "status": "completed"
    },
    "tags": []
   },
   "outputs": [
    {
     "name": "stdout",
     "output_type": "stream",
     "text": [
      "Best Validation Loss: 0.4896\n",
      "Best Validation Accuracy: 0.7864\n"
     ]
    },
    {
     "data": {
      "image/png": "[encoded data removed]",
      "text/plain": [
       "<Figure size 432x288 with 1 Axes>"
      ]
     },
     "metadata": {
      "needs_background": "light"
     },
     "output_type": "display_data"
    },
    {
     "data": {
      "image/png": "[encoded data removed]",
      "text/plain": [
       "<Figure size 432x288 with 1 Axes>"
      ]
     },
     "metadata": {
      "needs_background": "light"
     },
     "output_type": "display_data"
    }
   ],
   "source": [
    "history_df = pd.DataFrame(history.history)\n",
    "history_df.loc[:, ['loss', 'val_loss']].plot();\n",
    "history_df.loc[:, ['binary_accuracy', 'val_binary_accuracy']].plot()\n",
    "\n",
    "print((\"Best Validation Loss: {:0.4f}\" +\\\n",
    "      \"\\nBest Validation Accuracy: {:0.4f}\")\\\n",
    "      .format(history_df['val_loss'].min(), \n",
    "              history_df['val_binary_accuracy'].max()))\n"
   ]
  },
  {
   "cell_type": "code",
   "execution_count": 27,
   "id": "43ab68ca",
   "metadata": {
    "execution": {
     "iopub.execute_input": "2022-07-07T14:34:35.456307Z",
     "iopub.status.busy": "2022-07-07T14:34:35.455813Z",
     "iopub.status.idle": "2022-07-07T14:34:35.655194Z",
     "shell.execute_reply": "2022-07-07T14:34:35.653969Z"
    },
    "papermill": {
     "duration": 0.218634,
     "end_time": "2022-07-07T14:34:35.658077",
     "exception": false,
     "start_time": "2022-07-07T14:34:35.439443",
     "status": "completed"
    },
    "tags": []
   },
   "outputs": [],
   "source": [
    "result = model.predict(X_test_final)\n",
    "# output = pd.DataFrame({'PassengerId': test.PassengerId})\n",
    "# output['Survived'] = result.tolist()\n",
    "# output.head()"
   ]
  },
  {
   "cell_type": "code",
   "execution_count": 28,
   "id": "4bacf8b8",
   "metadata": {
    "execution": {
     "iopub.execute_input": "2022-07-07T14:34:35.690260Z",
     "iopub.status.busy": "2022-07-07T14:34:35.688801Z",
     "iopub.status.idle": "2022-07-07T14:34:35.698835Z",
     "shell.execute_reply": "2022-07-07T14:34:35.697502Z"
    },
    "papermill": {
     "duration": 0.029233,
     "end_time": "2022-07-07T14:34:35.701928",
     "exception": false,
     "start_time": "2022-07-07T14:34:35.672695",
     "status": "completed"
    },
    "tags": []
   },
   "outputs": [
    {
     "name": "stdout",
     "output_type": "stream",
     "text": [
      "[0, 1, 0, 0, 0, 0, 1, 0, 1, 0, 0, 0, 1, 0, 1, 1, 0, 0, 0, 1, 0, 0, 1, 0, 1, 0, 1, 0, 0, 0, 0, 0, 0, 0, 0, 0, 0, 0, 0, 0, 0, 0, 0, 1, 1, 0, 0, 0, 1, 0, 0, 0, 1, 1, 0, 0, 0, 0, 0, 1, 0, 0, 0, 1, 1, 1, 1, 0, 0, 1, 1, 0, 0, 0, 1, 0, 0, 1, 0, 1, 0, 1, 0, 0, 0, 0, 1, 0, 1, 0, 0, 0, 1, 0, 0, 0, 1, 0, 0, 0, 1, 0, 0, 0, 1, 0, 0, 0, 0, 0, 0, 1, 1, 1, 1, 0, 0, 0, 0, 1, 1, 0, 1, 0, 0, 0, 0, 1, 0, 0, 0, 0, 1, 0, 0, 0, 0, 0, 0, 0, 0, 1, 1, 0, 0, 0, 0, 0, 0, 0, 1, 0, 0, 0, 0, 0, 1, 0, 0, 0, 1, 0, 1, 0, 0, 0, 0, 0, 1, 0, 0, 0, 0, 0, 0, 1, 1, 0, 1, 1, 0, 0, 1, 0, 1, 0, 1, 0, 0, 0, 0, 0, 0, 0, 0, 0, 0, 0, 0, 0, 1, 0, 0, 1, 0, 0, 1, 0, 1, 0, 0, 0, 0, 1, 0, 0, 1, 0, 1, 0, 1, 0, 1, 0, 1, 1, 0, 1, 0, 0, 0, 1, 0, 0, 0, 0, 0, 0, 1, 1, 1, 1, 0, 0, 0, 0, 1, 0, 1, 1, 1, 0, 0, 0, 0, 0, 0, 0, 1, 0, 0, 0, 1, 0, 0, 0, 0, 0, 0, 0, 0, 0, 1, 1, 0, 1, 0, 0, 0, 0, 0, 0, 1, 1, 0, 0, 0, 0, 0, 0, 0, 1, 0, 0, 0, 0, 1, 0, 0, 0, 0, 0, 0, 0, 1, 1, 0, 0, 0, 1, 0, 0, 0, 1, 1, 1, 0, 0, 0, 0, 0, 0, 0, 0, 1, 0, 1, 0, 0, 0, 1, 0, 0, 1, 0, 0, 0, 0, 0, 0, 0, 0, 0, 1, 0, 0, 0, 1, 0, 1, 1, 0, 0, 0, 0, 0, 1, 0, 0, 0, 0, 1, 1, 0, 1, 1, 0, 1, 1, 0, 0, 1, 0, 0, 1, 1, 0, 0, 0, 0, 0, 0, 0, 0, 0, 1, 0, 0, 0, 0, 0, 1, 0, 0, 0, 1, 0, 1, 0, 0, 1, 0, 1, 0, 0, 0, 0, 0, 1, 0, 1, 1, 0, 0, 1, 0, 0, 0]\n"
     ]
    }
   ],
   "source": [
    "result=np.transpose(result)[0]\n",
    "result = list(map(lambda x: 0 if x<0.5 else 1, result))\n",
    "print(result)"
   ]
  },
  {
   "cell_type": "code",
   "execution_count": 29,
   "id": "58e0fa3b",
   "metadata": {
    "execution": {
     "iopub.execute_input": "2022-07-07T14:34:35.733430Z",
     "iopub.status.busy": "2022-07-07T14:34:35.732760Z",
     "iopub.status.idle": "2022-07-07T14:34:35.747055Z",
     "shell.execute_reply": "2022-07-07T14:34:35.745912Z"
    },
    "papermill": {
     "duration": 0.032839,
     "end_time": "2022-07-07T14:34:35.749271",
     "exception": false,
     "start_time": "2022-07-07T14:34:35.716432",
     "status": "completed"
    },
    "tags": []
   },
   "outputs": [
    {
     "data": {
      "text/html": [
       "<div>\n",
       "<style scoped>\n",
       "    .dataframe tbody tr th:only-of-type {\n",
       "        vertical-align: middle;\n",
       "    }\n",
       "\n",
       "    .dataframe tbody tr th {\n",
       "        vertical-align: top;\n",
       "    }\n",
       "\n",
       "    .dataframe thead th {\n",
       "        text-align: right;\n",
       "    }\n",
       "</style>\n",
       "<table border=\"1\" class=\"dataframe\">\n",
       "  <thead>\n",
       "    <tr style=\"text-align: right;\">\n",
       "      <th></th>\n",
       "      <th>PassengerId</th>\n",
       "      <th>Survived</th>\n",
       "    </tr>\n",
       "  </thead>\n",
       "  <tbody>\n",
       "    <tr>\n",
       "      <th>0</th>\n",
       "      <td>892</td>\n",
       "      <td>0</td>\n",
       "    </tr>\n",
       "    <tr>\n",
       "      <th>1</th>\n",
       "      <td>893</td>\n",
       "      <td>1</td>\n",
       "    </tr>\n",
       "    <tr>\n",
       "      <th>2</th>\n",
       "      <td>894</td>\n",
       "      <td>0</td>\n",
       "    </tr>\n",
       "    <tr>\n",
       "      <th>3</th>\n",
       "      <td>895</td>\n",
       "      <td>0</td>\n",
       "    </tr>\n",
       "    <tr>\n",
       "      <th>4</th>\n",
       "      <td>896</td>\n",
       "      <td>0</td>\n",
       "    </tr>\n",
       "  </tbody>\n",
       "</table>\n",
       "</div>"
      ],
      "text/plain": [
       "   PassengerId  Survived\n",
       "0          892         0\n",
       "1          893         1\n",
       "2          894         0\n",
       "3          895         0\n",
       "4          896         0"
      ]
     },
     "execution_count": 29,
     "metadata": {},
     "output_type": "execute_result"
    }
   ],
   "source": [
    "output = pd.DataFrame({'PassengerId': test.PassengerId, 'Survived': result})\n",
    "output.head()"
   ]
  },
  {
   "cell_type": "code",
   "execution_count": 30,
   "id": "b4fb9fce",
   "metadata": {
    "execution": {
     "iopub.execute_input": "2022-07-07T14:34:35.781773Z",
     "iopub.status.busy": "2022-07-07T14:34:35.780575Z",
     "iopub.status.idle": "2022-07-07T14:34:35.790780Z",
     "shell.execute_reply": "2022-07-07T14:34:35.789826Z"
    },
    "papermill": {
     "duration": 0.028757,
     "end_time": "2022-07-07T14:34:35.793208",
     "exception": false,
     "start_time": "2022-07-07T14:34:35.764451",
     "status": "completed"
    },
    "tags": []
   },
   "outputs": [],
   "source": [
    "output.to_csv('submission.csv', index=False)"
   ]
  }
 ],
 "metadata": {
  "kernelspec": {
   "display_name": "Python 3",
   "language": "python",
   "name": "python3"
  },
  "language_info": {
   "codemirror_mode": {
    "name": "ipython",
    "version": 3
   },
   "file_extension": ".py",
   "mimetype": "text/x-python",
   "name": "python",
   "nbconvert_exporter": "python",
   "pygments_lexer": "ipython3",
   "version": "3.7.12"
  },
  "papermill": {
   "default_parameters": {},
   "duration": 33.939485,
   "end_time": "2022-07-07T14:34:39.358792",
   "environment_variables": {},
   "exception": null,
   "input_path": "__notebook__.ipynb",
   "output_path": "__notebook__.ipynb",
   "parameters": {},
   "start_time": "2022-07-07T14:34:05.419307",
   "version": "2.3.4"
  }
 },
 "nbformat": 4,
 "nbformat_minor": 5
}
